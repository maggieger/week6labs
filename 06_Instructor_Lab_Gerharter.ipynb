{
 "cells": [
  {
   "cell_type": "markdown",
   "id": "71576426-3ab5-44cc-b19c-b700bed00732",
   "metadata": {},
   "source": [
    "**Week 6 Instructor-led Lab:**\n",
    "\n",
    "# Magic Crystal Ball ✨\n",
    "\n",
    "Author: Magdalena Gerharter, BSc  \n",
    "Course: BGEN 632 Graduate Introduction to Python  \n",
    "Term: Spring 2025  \n",
    "Date: April 1, 2025"
   ]
  },
  {
   "cell_type": "markdown",
   "id": "d88387fc-e085-47c4-bd31-93456a4b1dfd",
   "metadata": {},
   "source": [
    "### Import Modules"
   ]
  },
  {
   "cell_type": "code",
   "execution_count": 4,
   "id": "794a46ea-4862-4296-9956-caa4d7cee078",
   "metadata": {},
   "outputs": [],
   "source": [
    "import random as rand"
   ]
  },
  {
   "cell_type": "markdown",
   "id": "5f67541f-b0ca-46e1-94fa-f3bd767971d8",
   "metadata": {},
   "source": [
    "### Create Variables"
   ]
  },
  {
   "cell_type": "code",
   "execution_count": 6,
   "id": "b24ab238-0d2f-49ae-b1cc-49f587c93a10",
   "metadata": {},
   "outputs": [],
   "source": [
    "fortune_responses =  [ \"It is certain\",\n",
    "                      \"It is decidedly so\",\n",
    "                      \"That question requires greater monetary compensation\",\n",
    "                      \"Reply is hazy; try again, with more money\",\n",
    "                      \"Concentrate and ask again\",\n",
    "                      \"My reply is no\",\n",
    "                      \"Outlook is not so good\",\n",
    "                      \"Very doubtful\",\n",
    "                      \"Your future looks bright, but also slightly ridiculous. Perfect!\",\n",
    "                      \"Fate is busy right now. Please hold ...\",\n",
    "                      \"Yes, do it for the plot!\"]\n",
    "\n",
    "question_asked = False  # keep track of whether a question has been asked\n",
    "service_cost = 0.0  # keep track of service cost\n",
    "\n",
    "questions = []  # the questions asked by the customer\n",
    "responses = []  # the responses provided to the customer"
   ]
  },
  {
   "cell_type": "markdown",
   "id": "c791c21a-4c08-461a-ade7-6e9682d0379c",
   "metadata": {},
   "source": [
    "### Create Nested Loop\n",
    "\n",
    "LOOP WHILE TRUE  \n",
    "> SET end service to FALSE  \n",
    ">SET prompt text for first menu prompt  \n",
    "> IF question asked  \n",
    ">> SET promt text for subsequent menu prompt  \n",
    "\n",
    "> PRINT 1. Ask question 2. Review questions and responses 3. Complete services and pay  \n",
    "> PROMPT for selection from menu  \n",
    ">> IF selection from menu is 1  \n",
    ">>> PRINT Ask what you seek to know ...  \n",
    ">>> PROMPT and APPEND customer question to questions asked by customer  \n",
    ">>> SET questions asked to TRUE  \n",
    ">>> GENERATE and SET random selection from fortune responses  \n",
    ">>> APPEND question response to responses provided to customer  \n",
    ">>> PRINT question response  \n",
    ">>> SET service cost to service cost = 30.00  \n",
    "\n",
    ">> ELSE IF selection from menu is 2  \n",
    ">> ELSE IF selection from menu is 3  \n",
    ">> ELSE  \n",
    ">> IF end service  \n",
    ">> BREAK  "
   ]
  },
  {
   "cell_type": "code",
   "execution_count": 8,
   "id": "97783b04-7722-4e62-91b3-91ed18bd053c",
   "metadata": {},
   "outputs": [
    {
     "name": "stdout",
     "output_type": "stream",
     "text": [
      "Ah, look who's come seeking answers! What's it going to be today - serious business or just some good ol' fun?\n",
      "\n",
      "Lets get this show on the road!!!\n",
      "1. Ask a question\n",
      "2. Review your past questions and responses\n",
      "3. Complete services and pay\n"
     ]
    },
    {
     "name": "stdin",
     "output_type": "stream",
     "text": [
      "Your options are 1,2, or 3! What will it be? 2\n"
     ]
    },
    {
     "name": "stdout",
     "output_type": "stream",
     "text": [
      "Ah, silcence! No questions yet - come on, don’t leave me hanging!\n",
      "\n",
      "Lets get this show on the road!!!\n",
      "1. Ask a question\n",
      "2. Review your past questions and responses\n",
      "3. Complete services and pay\n"
     ]
    },
    {
     "name": "stdin",
     "output_type": "stream",
     "text": [
      "Your options are 1,2, or 3! What will it be? 5\n"
     ]
    },
    {
     "name": "stdout",
     "output_type": "stream",
     "text": [
      "Uh-oh ... looks like that didn't work. Try again with a valid option!\n",
      "\n",
      "Lets get this show on the road!!!\n",
      "1. Ask a question\n",
      "2. Review your past questions and responses\n",
      "3. Complete services and pay\n"
     ]
    },
    {
     "name": "stdin",
     "output_type": "stream",
     "text": [
      "Your options are 1,2, or 3! What will it be? 1\n",
      "Go ahead, ask what you seek to know ... Can I keep an elephant as a pet?\n"
     ]
    },
    {
     "name": "stdout",
     "output_type": "stream",
     "text": [
      "Drumroll, please... That question requires greater monetary compensation\n",
      "\n",
      "So, what's your next move?\n",
      "1. Ask a question\n",
      "2. Review your past questions and responses\n",
      "3. Complete services and pay\n"
     ]
    },
    {
     "name": "stdin",
     "output_type": "stream",
     "text": [
      "Your options are 1,2, or 3! What will it be? 1\n",
      "Go ahead, ask what you seek to know ... Does Mikaylas dog miss her?\n"
     ]
    },
    {
     "name": "stdout",
     "output_type": "stream",
     "text": [
      "Drumroll, please... Very doubtful\n",
      "\n",
      "So, what's your next move?\n",
      "1. Ask a question\n",
      "2. Review your past questions and responses\n",
      "3. Complete services and pay\n"
     ]
    },
    {
     "name": "stdin",
     "output_type": "stream",
     "text": [
      "Your options are 1,2, or 3! What will it be? 2\n"
     ]
    },
    {
     "name": "stdout",
     "output_type": "stream",
     "text": [
      "\n",
      " Let's see what we've learned so far:\n",
      "What you were dying to ask: Can I keep an elephant as a pet?\n",
      "The wisdom I shared: That question requires greater monetary compensation\n",
      "What you were dying to ask: Does Mikaylas dog miss her?\n",
      "The wisdom I shared: Very doubtful\n",
      "\n",
      "So, what's your next move?\n",
      "1. Ask a question\n",
      "2. Review your past questions and responses\n",
      "3. Complete services and pay\n"
     ]
    },
    {
     "name": "stdin",
     "output_type": "stream",
     "text": [
      "Your options are 1,2, or 3! What will it be? 3\n"
     ]
    },
    {
     "name": "stdout",
     "output_type": "stream",
     "text": [
      "\n",
      " The grand total for your adventure is: 60.0 bucks\n",
      "Gratitude and farewells - until we meet again, my friend!\n"
     ]
    }
   ],
   "source": [
    "print(\"Ah, look who's come seeking answers! What's it going to be today - serious business or just some good ol' fun?\")\n",
    "\n",
    "while True:\n",
    "    if not question_asked:\n",
    "        menu_prompt = \"Lets get this show on the road!!!\"\n",
    "    else:\n",
    "        menu_prompt = \"So, what's your next move?\"\n",
    "\n",
    "    print(\"\\n\" + menu_prompt)\n",
    "    print(\"1. Ask a question\")\n",
    "    print(\"2. Review your past questions and responses\")\n",
    "    print(\"3. Complete services and pay\")\n",
    "\n",
    "    selection = input(\"Your options are 1,2, or 3! What will it be?\")\n",
    "\n",
    "    if selection == \"1\":\n",
    "        question = input (\"Go ahead, ask what you seek to know ...\")\n",
    "        questions.append(question)\n",
    "        question_asked = True\n",
    "        response = rand.choice(fortune_responses)\n",
    "        responses.append(response)\n",
    "        print(\"Drumroll, please...\", response)\n",
    "        service_cost += 30.00\n",
    "\n",
    "    elif selection == \"2\":\n",
    "        if questions:\n",
    "            print(\"\\n Let's see what we've learned so far:\")\n",
    "            for q, r in zip(questions, responses):\n",
    "                print(f\"What you were dying to ask: {q}\")\n",
    "                print(f\"The wisdom I shared: {r}\")\n",
    "        else:\n",
    "            print(\"Ah, silcence! No questions yet - come on, don’t leave me hanging!\")\n",
    "\n",
    "    elif selection == \"3\":\n",
    "        print(f\"\\n The grand total for your adventure is: {service_cost} bucks\")\n",
    "        print(\"Gratitude and farewells - until we meet again, my friend!\")\n",
    "        break\n",
    "\n",
    "    else:\n",
    "        print(\"Uh-oh ... looks like that didn't work. Try again with a valid option!\")\n",
    "\n",
    "\n",
    "        \n",
    "                "
   ]
  },
  {
   "cell_type": "markdown",
   "id": "33162bb9-cb72-424a-8ae3-2abaac0cd116",
   "metadata": {},
   "source": [
    "### Resources\n",
    "\n",
    "for loop vs. while loop in python  \n",
    "https://www.youtube.com/watch?v=cUV__S8Jaqs   \n",
    "(accessed on 01-04-2025)"
   ]
  },
  {
   "cell_type": "code",
   "execution_count": null,
   "id": "d584d8bf-237f-405f-8de7-299527fd9b68",
   "metadata": {},
   "outputs": [],
   "source": []
  }
 ],
 "metadata": {
  "kernelspec": {
   "display_name": "Python [conda env:base] *",
   "language": "python",
   "name": "conda-base-py"
  },
  "language_info": {
   "codemirror_mode": {
    "name": "ipython",
    "version": 3
   },
   "file_extension": ".py",
   "mimetype": "text/x-python",
   "name": "python",
   "nbconvert_exporter": "python",
   "pygments_lexer": "ipython3",
   "version": "3.12.7"
  }
 },
 "nbformat": 4,
 "nbformat_minor": 5
}
